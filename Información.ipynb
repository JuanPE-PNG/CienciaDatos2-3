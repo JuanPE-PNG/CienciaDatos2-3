{
 "cells": [
  {
   "cell_type": "markdown",
   "metadata": {},
   "source": [
    "## Información sobre el Proyecto\n",
    "### Ciencia de Datos\n",
    "\n",
    "#### Miembros del equipo:\n",
    "\n",
    "- **Juan Pablo Escobar Viveros** - *2259519*\n",
    "- **Edgar Andrés Vargas García** - *2259690*\n",
    "- **Cristian David Rivera Torres** - *2259...*\n",
    "\n",
    "\n",
    "---"
   ]
  },
  {
   "cell_type": "markdown",
   "metadata": {},
   "source": [
    "- Se usara el Dataset proporcionado por el docente para poder empezar la resolución del proyecto.\n",
    "- En este caso, el objetivo es predecir el valor de un aguacate según las caracteristicas del dataset."
   ]
  }
 ],
 "metadata": {
  "language_info": {
   "name": "python"
  }
 },
 "nbformat": 4,
 "nbformat_minor": 2
}
